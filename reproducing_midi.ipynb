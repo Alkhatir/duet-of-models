{
 "cells": [
  {
   "cell_type": "markdown",
   "id": "d213d351",
   "metadata": {},
   "source": [
    "# Tokenization experiments"
   ]
  },
  {
   "cell_type": "code",
   "execution_count": null,
   "id": "7d54bc13",
   "metadata": {},
   "outputs": [],
   "source": [
    "from miditok import REMI, TokenizerConfig\n",
    "from miditoolkit import MidiFile\n",
    "\n",
    "config = TokenizerConfig(\n",
    "    num_velocities=32,\n",
    "    beat_res={(0, 2): 8, (2, 4): 4},  \n",
    "    use_chords=True,\n",
    "    use_time_signatures=True,\n",
    ")\n",
    "tok = REMI(config)\n",
    "\n",
    "\n",
    "seq_lens = []\n",
    "for p in tqdm(sample[:300]):  # small subset to estimate\n",
    "    try:\n",
    "        midi = MidiFile(str(p))\n",
    "        tokens = tok(midi)\n",
    "        seq_lens.append(len(tokens))\n",
    "    except Exception:\n",
    "        pass\n",
    "\n",
    "pd.Series(seq_lens).describe(), pd.Series(seq_lens).clip(upper=10000).hist(bins=50)\n",
    "plt.title(\"Token length (subset)\")\n",
    "plt.show()\n",
    "len(tok.vocab), tok.vocab[:20]"
   ]
  },
  {
   "cell_type": "code",
   "execution_count": null,
   "id": "4d7f94c9",
   "metadata": {},
   "outputs": [],
   "source": [
    "TOKENIZER_PARAMS = {\n",
    "    \"pitch_range\": (21, 109),\n",
    "    \"beat_res\": {(0, 2): 8, (2, 4): 4},\n",
    "    \"num_velocities\": 32,\n",
    "    \"special_tokens\": [\"PAD\", \"BOS\", \"EOS\", \"MASK\"],\n",
    "    \"use_chords\": True,\n",
    "    \"use_rests\": False,\n",
    "    \"use_tempos\": True,\n",
    "    \"use_time_signatures\": False,\n",
    "    \"use_programs\": False,\n",
    "    \"num_tempos\": 32,  # number of tempo bins\n",
    "    \"tempo_range\": (40, 250),  # (min, max)\n",
    "}\n",
    "config = TokenizerConfig(**TOKENIZER_PARAMS)\n",
    "\n",
    "# Creates the tokenizer\n",
    "tok = REMI(config)\n",
    "tok(tokens).dump_midi(Path(\"decoded_midi.mid\"))"
   ]
  },
  {
   "cell_type": "code",
   "execution_count": null,
   "id": "a1ae7642",
   "metadata": {},
   "outputs": [],
   "source": [
    "from IPython.display import Audio\n",
    "output_audio = pretty_midi.PrettyMIDI(\"decoded_midi.mid\").synthesize(fs=44100)\n",
    "Audio(output_audio, rate=44100)"
   ]
  },
  {
   "cell_type": "code",
   "execution_count": null,
   "id": "efc308d7",
   "metadata": {},
   "outputs": [],
   "source": [
    "output_audio = pretty_midi.PrettyMIDI(str(sample[299])).synthesize(fs=44100)\n",
    "Audio(output_audio, rate=44100)"
   ]
  }
 ],
 "metadata": {
  "language_info": {
   "name": "python"
  }
 },
 "nbformat": 4,
 "nbformat_minor": 5
}
